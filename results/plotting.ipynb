{
 "cells": [
  {
   "cell_type": "markdown",
   "metadata": {},
   "source": [
    "# Plotting for Airfoil Parameterizations"
   ]
  },
  {
   "cell_type": "code",
   "execution_count": 56,
   "metadata": {},
   "outputs": [],
   "source": [
    "from __future__ import division\n",
    "import numpy as np\n",
    "import matplotlib.pyplot as plt\n",
    "import math\n",
    "from scipy.interpolate import interp1d, splev, splrep, UnivariateSpline\n",
    "from scipy.stats import norm"
   ]
  },
  {
   "cell_type": "markdown",
   "metadata": {},
   "source": [
    "# PARSEC Parameterized Airfoil (Truncation optional)"
   ]
  },
  {
   "cell_type": "code",
   "execution_count": 59,
   "metadata": {},
   "outputs": [],
   "source": [
    "class Parameters(object):\n",
    "    '''Parameters defining a PARSEC airfoil'''   \n",
    "    def __init__(self, x):\n",
    "\n",
    "        if x.size > 6:\n",
    "            print(\"5d np array expected\")\n",
    "\n",
    "        front_radius        = x[0]\n",
    "        x_cross_section     = x[1]\n",
    "        cross_section_width = x[2]\n",
    "        sides_curve         = x[3]\n",
    "        rear_angle          = x[4]\n",
    "        trunc               = 1\n",
    "        if x.size > 5:\n",
    "            trunc               = x[5]\n",
    "            \n",
    "\n",
    "        self.r_le       = front_radius              # Leading edge radius\n",
    "        self.X_up       = x_cross_section           # Upper crest location X coordinate\n",
    "        self.Z_up       = cross_section_width       # Upper crest location Z coordinate\n",
    "        self.Z_XX_up    = -sides_curve              # Upper crest location curvature\n",
    "        self.X_lo       = x_cross_section           # Lower crest location X coordinate\n",
    "        self.Z_lo       = -cross_section_width      # Lower crest location Z coordinate\n",
    "        self.Z_XX_lo    = sides_curve               # Lower crest location curvature\n",
    "        self.Z_te       = 0 # static                # Trailing edge Z coordinate\n",
    "        self.dZ_te      = 0 # static                # Trailing edge thickness\n",
    "        self.alpha_te   = 0 # static                # Trailing edge direction angle\n",
    "        self.beta_te    = rear_angle #(radians)     # Trailing edge wedge angle\n",
    "        self.P_mix      = 1.0                       # Blending parameter\n",
    "        self.trunc      = min(trunc,1)              # Where we truncate"
   ]
  },
  {
   "cell_type": "code",
   "execution_count": 60,
   "metadata": {},
   "outputs": [],
   "source": [
    "class Coefficients(object):\n",
    "    '''\n",
    "    Credit for this class goes to\n",
    "    https://github.com/mbodmer/libairfoil\n",
    "    This class calculates the equation systems which define the coefficients\n",
    "    for the polynomials given by the parsec airfoil parameters.\n",
    "    '''\n",
    "    def __init__(self, parsec_params):\n",
    "        self.params = Parameters(parsec_params)\n",
    "        self._a_up = self._calc_a_up(self.params)\n",
    "        self._a_lo = self._calc_a_lo(self.params)\n",
    "    \n",
    "    def a_up(self):\n",
    "        '''Returns coefficient vector for upper surface'''\n",
    "        return self._a_up\n",
    "    \n",
    "    def a_lo(self):\n",
    "        '''Returns coefficient vector for lower surface'''\n",
    "        return self._a_lo\n",
    "    \n",
    "    def _calc_a_up(self, parsec_params):\n",
    "        Amat = self._prepare_linsys_Amat(parsec_params.X_up)\n",
    "        Bvec = np.array([parsec_params.Z_te, parsec_params.Z_up,\n",
    "                            math.tan(parsec_params.alpha_te - parsec_params.beta_te/2),\n",
    "                            0.0, parsec_params.Z_XX_up, math.sqrt(2*parsec_params.r_le)]) \n",
    "        return np.linalg.solve(Amat, Bvec)\n",
    "    \n",
    "    def _calc_a_lo(self, parsec_params):\n",
    "        Amat = self._prepare_linsys_Amat(parsec_params.X_lo)\n",
    "        Bvec = np.array([parsec_params.Z_te, parsec_params.Z_lo,\n",
    "                            math.tan(parsec_params.alpha_te + parsec_params.beta_te/2),\n",
    "                            0.0, parsec_params.Z_XX_lo, -math.sqrt(2*parsec_params.r_le)])\n",
    "        return np.linalg.solve(Amat, Bvec)\n",
    "    \n",
    "    def _prepare_linsys_Amat(self, X):\n",
    "        return np.array(\n",
    "            [[1.0,           1.0,          1.0,         1.0,          1.0,          1.0        ],\n",
    "             [X**0.5,        X**1.5,       X**2.5,      X**3.5,       X**4.5,       X**5.5     ],\n",
    "             [0.5,           1.5,          2.5,         3.5,          4.5,          5.5        ],\n",
    "             [0.5*X**-0.5,   1.5*X**0.5,   2.5*X**1.5,  3.5*X**2.5,   4.5*X**3.5,   5.5*X**4.5 ],\n",
    "             [-0.25*X**-1.5, 0.75*X**-0.5, 3.75*X**0.5, 8.75*X**1.5, 15.75*X**2.5, 24.75*X**3.5],\n",
    "             [1.0,           0.0,          0.0,         0.0,          0.0,          0.0        ]])"
   ]
  },
  {
   "cell_type": "code",
   "execution_count": 70,
   "metadata": {},
   "outputs": [],
   "source": [
    "class PARSECAirfoil(object):\n",
    "    '''\n",
    "    Credit for this class goes to\n",
    "    https://github.com/mbodmer/libairfoil\n",
    "    Airfoil defined by PARSEC Parameters\n",
    "    '''\n",
    "    def __init__(self, parsec_params):\n",
    "        self._coeff = Coefficients(parsec_params)\n",
    "        \n",
    "    def Z_up(self, X):\n",
    "        '''Returns Z(X) on upper surface, calculates PARSEC polynomial'''\n",
    "        a = self._coeff.a_up()\n",
    "        X = X * self._coeff.params.trunc\n",
    "        foil = a[0]*X**0.5 + a[1]*X**1.5 + a[2]*X**2.5 + a[3]*X**3.5 + a[4]*X**4.5 + a[5]*X**5.5\n",
    "        foil[-1] = 0\n",
    "        return foil    \n",
    "    \n",
    "    def Z_lo(self, X):\n",
    "        '''Returns Z(X) on lower surface, calculates PARSEC polynomial'''\n",
    "        a = self._coeff.a_lo()\n",
    "        X = X * self._coeff.params.trunc\n",
    "        foil = a[0]*X**0.5 + a[1]*X**1.5 + a[2]*X**2.5 + a[3]*X**3.5 + a[4]*X**4.5 + a[5]*X**5.5\n",
    "        foil[-1] = 0\n",
    "        return foil"
   ]
  },
  {
   "cell_type": "markdown",
   "metadata": {},
   "source": [
    "# NACA Parameterized Airfoil (Truncation optional)"
   ]
  },
  {
   "cell_type": "code",
   "execution_count": 20,
   "metadata": {},
   "outputs": [],
   "source": [
    "class NACAAirfoil(object):\n",
    "    '''\n",
    "    Credit for this class goes to\n",
    "    https://github.com/mbodmer/libairfoil\n",
    "    Airfoil defined by PARSEC Parameters\n",
    "    '''\n",
    "    def __init__(self, params):\n",
    "        self.thickness = 1\n",
    "        self.truncation = params[0]\n",
    "\n",
    "    def Z_up(self, X):\n",
    "        X = X * self.truncation\n",
    "        t = self.thickness\n",
    "        foil = 5*t * (.2969*np.sqrt(X) - .1260*X - .3516*X**2 + .2843*X**3 - .102*X**4)\n",
    "        foil[-1] = 0\n",
    "        return foil\n",
    "\n",
    "    def Z_lo(self, X):\n",
    "        '''Returns Z(X) on lower surface, calculates PARSEC polynomial'''\n",
    "        X = X * self.truncation\n",
    "        t = self.thickness\n",
    "        foil = -5*t * (.2969*np.sqrt(X) - .1260*X - .3516*X**2 + .2843*X**3 - .102*X**4)\n",
    "        foil[-1] = 0\n",
    "        return foil"
   ]
  },
  {
   "cell_type": "markdown",
   "metadata": {},
   "source": [
    "# Convex Combo of NACA and PARSEC"
   ]
  },
  {
   "cell_type": "code",
   "execution_count": 72,
   "metadata": {},
   "outputs": [],
   "source": [
    "class MixAirfoil(object):\n",
    "    def __init__(self, params):\n",
    "        self.naca_params = params[0:1]\n",
    "        self.parsec_params = params[1:7]\n",
    "        self.mix = params[7]\n",
    "        self.naca = NACAAirfoil(self.naca_params)\n",
    "        self.parsec = PARSECAirfoil(self.parsec_params)\n",
    "\n",
    "    def Z_up(self, X):\n",
    "        naca_coords = self.naca.Z_up(X)\n",
    "        parsec_coords = self.parsec.Z_up(X)\n",
    "        naca_coords = naca_coords * 1/(6*np.max(naca_coords))\n",
    "        parsec_coords = parsec_coords * 1/(6*np.max(parsec_coords))\n",
    "\n",
    "        foil = self.mix * naca_coords + (1-self.mix) * parsec_coords\n",
    "        # foil[-1] = 0\n",
    "        return foil\n",
    "\n",
    "    def Z_lo(self, X):\n",
    "        return -self.Z_up(X)"
   ]
  },
  {
   "cell_type": "markdown",
   "metadata": {},
   "source": [
    "# Interpolated Airfoil"
   ]
  },
  {
   "cell_type": "code",
   "execution_count": 28,
   "metadata": {},
   "outputs": [],
   "source": [
    "class InterAirfoil(object):\n",
    "    def __init__(self, params):\n",
    "        params = np.array(params)        \n",
    "        self.x = params[0]\n",
    "\n",
    "        self.y = np.zeros(params.shape[1])\n",
    "        for i in range(1,self.y.size):\n",
    "            self.y[i] = self.y[i-1] + params[1][i-1]\n",
    "        \n",
    "        self.f = interp1d(self.x, self.y, kind=1)\n",
    "\n",
    "    def Z_up(self, X):\n",
    "        foil = self.f(X)\n",
    "        foil[-1] = 0\n",
    "        return foil\n",
    "\n",
    "    def Z_lo(self, X):\n",
    "        return -self.Z_up(X)"
   ]
  },
  {
   "cell_type": "markdown",
   "metadata": {},
   "source": [
    "# Plot Airfoil Designs"
   ]
  },
  {
   "cell_type": "code",
   "execution_count": 5,
   "metadata": {},
   "outputs": [],
   "source": [
    "def plot_airfoil(airfoil, f=None, l=None, t=None, grid=True, sc=False):\n",
    "    x = np.linspace(0.0, 1.0, 150)\n",
    "    foil_up = airfoil.Z_up(x)\n",
    "    foil_lo = airfoil.Z_lo(x)\n",
    "    topmax = np.max(foil_up)\n",
    "\n",
    "    foil_up = foil_up * 1/(6*topmax)\n",
    "    foil_lo = foil_lo * 1/(6*topmax)\n",
    "    \n",
    "    if not sc:\n",
    "        plt.plot(x, foil_up, 'r--', x,foil_lo, 'b--')\n",
    "    else:\n",
    "        plt.plot(x, foil_up, 'k--', linewidth=2)\n",
    "        plt.plot(x, foil_lo, 'k--', linewidth=2)\n",
    "    \n",
    "    \n",
    "    plt.xlim(-.1, 1.1)\n",
    "    plt.ylim(-.3, .3)\n",
    "    if l is not None:\n",
    "        plt.xlabel(l)\n",
    "    plt.gca().set_aspect('equal', adjustable='box')\n",
    "    if grid:\n",
    "        plt.grid(True)\n",
    "    if t is not None:\n",
    "        plt.title(t)\n",
    "    if f is None:\n",
    "        plt.show()\n",
    "    else:\n",
    "        plt.savefig(f)\n",
    "    plt.close()"
   ]
  },
  {
   "cell_type": "markdown",
   "metadata": {},
   "source": [
    "### Example optimization history"
   ]
  },
  {
   "cell_type": "code",
   "execution_count": 18,
   "metadata": {},
   "outputs": [],
   "source": [
    "designs = [\n",
    "[0.4, 0.26, 0.26, 2.2, 0.628, 0.9],\n",
    "[0.395, 0.27, 0.27, 2.14, 0.629, 0.873],\n",
    "[0.385, 0.24, 0.303, 2.256, 0.656, 0.743],\n",
    "[0.399, 0.252, 0.287, 2.205, 0.629, 0.835],\n",
    "[0.397, 0.247, 0.291, 2.255, 0.62, 0.826],\n",
    "[0.399, 0.245, 0.29, 2.282, 0.615, 0.825],\n",
    "[0.396, 0.247, 0.292, 2.266, 0.613, 0.826],\n",
    "[0.397, 0.247, 0.293, 2.277, 0.61, 0.822],\n",
    "[0.397, 0.246, 0.293, 2.28, 0.612, 0.823],\n",
    "[0.397, 0.246, 0.293, 2.282, 0.611, 0.822],\n",
    "[0.397, 0.246, 0.294, 2.283, 0.611, 0.821],\n",
    "[0.397, 0.246, 0.294, 2.284, 0.61, 0.82],\n",
    "[0.397, 0.246, 0.294, 2.284, 0.61, 0.82],\n",
    "[0.397, 0.246, 0.294, 2.284, 0.611, 0.82],\n",
    "[0.397, 0.246, 0.294, 2.284, 0.611, 0.82],\n",
    "[0.397, 0.246, 0.294, 2.284, 0.611, 0.82],\n",
    "[0.397, 0.246, 0.294, 2.284, 0.611, 0.82],\n",
    "[0.397, 0.246, 0.294, 2.284, 0.611, 0.82],\n",
    "[0.397, 0.246, 0.294, 2.284, 0.611, 0.82],\n",
    "[0.397, 0.246, 0.294, 2.283, 0.611, 0.82],\n",
    "[0.397, 0.246, 0.294, 2.283, 0.611, 0.82],\n",
    "[0.397, 0.246, 0.294, 2.283, 0.611, 0.82],\n",
    "[0.397, 0.246, 0.294, 2.283, 0.611, 0.82],\n",
    "[0.397, 0.246, 0.294, 2.283, 0.611, 0.82],\n",
    "[0.397, 0.246, 0.294, 2.283, 0.611, 0.82],\n",
    "[0.397, 0.246, 0.294, 2.283, 0.611, 0.82],\n",
    "]\n",
    "\n",
    "objs = [\n",
    "    1.0577, 0.964, 0.7568, 0.678, 0.6294, 0.6307,\n",
    "    0.6289, 0.6296, 0.7706, 0.6306, 0.6307, 0.6318,\n",
    "    0.631, 0.6397, 0.6312, 0.7581, 0.6314, 0.6304,\n",
    "    0.6312, 0.6312, 0.6318, 0.6319, 0.6319, 0.6319,\n",
    "    0.6335, 0.6226\n",
    "]"
   ]
  },
  {
   "cell_type": "markdown",
   "metadata": {},
   "source": [
    "## Plot succession of images for animation"
   ]
  },
  {
   "cell_type": "code",
   "execution_count": 57,
   "metadata": {},
   "outputs": [],
   "source": [
    "def plot_anim(designs, objs, basef=\"./myopt/anim/iter\", Airfoil=None):\n",
    "    for i in range(len(designs)):\n",
    "        params = designs[i]\n",
    "        params = Parameters(np.array(params))\n",
    "        airfoil = Airfoil(params)\n",
    "        iter = str(i+1)\n",
    "        iter = '0'*(4-len(iter)) + iter\n",
    "        filename = basef + iter + \".png\"\n",
    "        label = \"Iter: \" + iter + \"    Obj: {:.4f}\".format(objs[i])\n",
    "        plot_airfoil(airfoil, f=filename, l=label)"
   ]
  },
  {
   "cell_type": "code",
   "execution_count": 71,
   "metadata": {},
   "outputs": [],
   "source": [
    "# plot_anim(designs, objs, Airfoil=PARSECAirfoil)"
   ]
  },
  {
   "cell_type": "markdown",
   "metadata": {},
   "source": [
    "### Construct ticks for Interpolated Airfoil"
   ]
  },
  {
   "cell_type": "code",
   "execution_count": 50,
   "metadata": {},
   "outputs": [
    {
     "data": {
      "image/png": "[encoded data removed]",
      "text/plain": [
       "<Figure size 432x288 with 1 Axes>"
      ]
     },
     "metadata": {
      "needs_background": "light"
     },
     "output_type": "display_data"
    }
   ],
   "source": [
    "xticks = np.linspace(0,np.pi/2,10)\n",
    "xticks = np.array([(0.5*(1.0-np.cos(tick))) for tick in xticks])\n",
    "xticks = np.hstack([xticks, np.linspace(0.5,1,7)[1:]])\n",
    "\n",
    "plt.scatter(xticks, [np.log(1+i*.01)**.7/2 for i in range(len(xticks))], s=8)\n",
    "plt.gca().set_aspect('equal', adjustable='box')\n",
    "plt.xlim(-.1,1.1)\n",
    "plt.ylim(-.02,.2)\n",
    "plt.show()\n",
    "plt.clf()"
   ]
  },
  {
   "cell_type": "markdown",
   "metadata": {},
   "source": [
    "### Example of how to get init params for interpolated airfoil from mixed airfoil"
   ]
  },
  {
   "cell_type": "code",
   "execution_count": 62,
   "metadata": {},
   "outputs": [
    {
     "data": {
      "image/png": "[encoded data removed]",
      "text/plain": [
       "<Figure size 432x288 with 1 Axes>"
      ]
     },
     "metadata": {
      "needs_background": "light"
     },
     "output_type": "display_data"
    },
    {
     "name": "stdout",
     "output_type": "stream",
     "text": [
      "[0.031, 0.03, 0.028, 0.024, 0.02, 0.015, 0.01, 0.006, 0.002, 0.0, -0.001, -0.001, -0.002, -0.002, -0.002]\n"
     ]
    }
   ],
   "source": [
    "params = np.array([0.441, 0.425, 0.234, 0.293, 2.222, 0.661, 0.496, 0.307])\n",
    "airfoil = MixAirfoil(params)\n",
    "\n",
    "ys = airfoil.Z_up(xticks)\n",
    "ys[-1] = 2*ys[-2]-ys[-3]\n",
    "ys_rel = [ ys[i+1] - ys[i] for i in range(len(ys)-1)]\n",
    "\n",
    "rec = np.zeros(len(ys))\n",
    "for i in range(1,len(ys)):\n",
    "    rec[i] = rec[i-1] + ys_rel[i-1]\n",
    "\n",
    "params = np.zeros((2,len(xticks)))\n",
    "params[0] = xticks\n",
    "params[1,:-1] = ys_rel\n",
    "\n",
    "airfoil = InterAirfoil(params)\n",
    "plot_airfoil(airfoil)\n",
    "\n",
    "print(list(np.around(ys_rel,decimals=3)))"
   ]
  },
  {
   "cell_type": "markdown",
   "metadata": {},
   "source": [
    "### Example of plotting with interpolated points marked"
   ]
  },
  {
   "cell_type": "code",
   "execution_count": 63,
   "metadata": {},
   "outputs": [
    {
     "data": {
      "image/png": "[encoded data removed]",
      "text/plain": [
       "<Figure size 432x288 with 1 Axes>"
      ]
     },
     "metadata": {
      "needs_background": "light"
     },
     "output_type": "display_data"
    }
   ],
   "source": [
    "ys_rel = [0.036, 0.042, 0.024, 0.03, 0.035, 0.021,\n",
    "          0.012, 0.004, 0.003, -0.0, -0.001, -0.002,\n",
    "          -0.003, -0.003, -0.003]\n",
    "params = np.zeros((2,len(xticks)))\n",
    "params[0] = xticks\n",
    "params[1,:-1] = ys_rel\n",
    "airfoil = InterAirfoil(params)\n",
    "\n",
    "xs_plt = np.hstack([params[0],np.ones(1)])\n",
    "\n",
    "ys_air = airfoil.Z_up(xs_plt)\n",
    "ys_air = ys_air / (ys_air.max()*6)\n",
    "plt.scatter(xs_plt,ys_air, s=20, c=\"black\")\n",
    "plt.scatter(xs_plt,-1*ys_air, s=20, c=\"black\")\n",
    "\n",
    "plot_airfoil(airfoil)\n",
    "\n",
    "\n",
    "\n"
   ]
  },
  {
   "cell_type": "markdown",
   "metadata": {},
   "source": [
    "### Wind speeds experienced usually roughly ~Normal(0,6)"
   ]
  },
  {
   "cell_type": "code",
   "execution_count": 66,
   "metadata": {},
   "outputs": [
    {
     "name": "stdout",
     "output_type": "stream",
     "text": [
      "[6.641, 6.55, 6.283, 5.863, 5.321, 4.697, 4.033, 3.368, 2.736, 2.162, 1.661]\n"
     ]
    },
    {
     "data": {
      "image/png": "[encoded data removed]",
      "text/plain": [
       "<Figure size 432x288 with 1 Axes>"
      ]
     },
     "metadata": {
      "needs_background": "light"
     },
     "output_type": "display_data"
    }
   ],
   "source": [
    "rv = norm(loc=0, scale=6)\n",
    "weights = np.array([rv.cdf(i+.5)-rv.cdf(i-.5) for i in range(11)])\n",
    "weights *= 100\n",
    "print(list(np.around(weights,decimals=3)))\n",
    "plt.bar(range(11),weights)\n",
    "plt.show()"
   ]
  },
  {
   "cell_type": "markdown",
   "metadata": {},
   "source": [
    "# Plotting Final Results"
   ]
  },
  {
   "cell_type": "code",
   "execution_count": 67,
   "metadata": {},
   "outputs": [
    {
     "data": {
      "image/png": "[encoded data removed]",
      "text/plain": [
       "<Figure size 432x288 with 1 Axes>"
      ]
     },
     "metadata": {
      "needs_background": "light"
     },
     "output_type": "display_data"
    },
    {
     "name": "stdout",
     "output_type": "stream",
     "text": [
      "8.671495388386187\n"
     ]
    }
   ],
   "source": [
    "# NACA #\n",
    "params = [1]\n",
    "\n",
    "NACA_airfoil = NACAAirfoil(params)\n",
    "plot_airfoil(NACA_airfoil, sc=True, grid=True)\n",
    "\n",
    "NACA_drags = [.1614,.17196,.1726,.1549,.1890,.1877,.1896,.1888,.1784,.1814,.1882]\n",
    "NACA_obj = np.dot(weights, NACA_drags)\n",
    "\n",
    "print(NACA_obj)"
   ]
  },
  {
   "cell_type": "code",
   "execution_count": 68,
   "metadata": {},
   "outputs": [
    {
     "data": {
      "image/png": "[encoded data removed]",
      "text/plain": [
       "<Figure size 432x288 with 1 Axes>"
      ]
     },
     "metadata": {
      "needs_background": "light"
     },
     "output_type": "display_data"
    },
    {
     "name": "stdout",
     "output_type": "stream",
     "text": [
      "3.4682574720337005\n"
     ]
    }
   ],
   "source": [
    "# Truncated NACA #\n",
    "params = [0.405]\n",
    "\n",
    "T_NACA_airfoil = NACAAirfoil(params)\n",
    "plot_airfoil(T_NACA_airfoil, sc=True, grid=True)\n",
    "\n",
    "T_NACA_drags = [0.05762, 0.05822, 0.06011, 0.06368, 0.07056, 0.08613, 0.10899, 0.08041, 0.06907, 0.06685, 0.07789]\n",
    "T_NACA_obj = np.dot(weights, T_NACA_drags)\n",
    "\n",
    "print(T_NACA_obj)"
   ]
  },
  {
   "cell_type": "code",
   "execution_count": 73,
   "metadata": {},
   "outputs": [
    {
     "data": {
      "image/png": "[encoded data removed]",
      "text/plain": [
       "<Figure size 432x288 with 1 Axes>"
      ]
     },
     "metadata": {
      "needs_background": "light"
     },
     "output_type": "display_data"
    },
    {
     "name": "stdout",
     "output_type": "stream",
     "text": [
      "5.411919901807162\n"
     ]
    }
   ],
   "source": [
    "# PARSEC #\n",
    "params = np.array([0.409, 0.217, 0.293, 2.334, 0.683])\n",
    "\n",
    "PARSEC_airfoil = PARSECAirfoil(params)\n",
    "plot_airfoil(PARSEC_airfoil, sc=True, grid=True)\n",
    "\n",
    "PARSEC_drags = [0.08049, 0.08301, 0.08778, 0.08862, 0.08862, 0.0949, 0.1101, 0.18464, 0.18998, 0.19663, 0.20138]\n",
    "\n",
    "PARSEC_obj = np.dot(weights, PARSEC_drags)\n",
    "\n",
    "print(PARSEC_obj)\n"
   ]
  },
  {
   "cell_type": "code",
   "execution_count": 74,
   "metadata": {},
   "outputs": [
    {
     "data": {
      "image/png": "[encoded data removed]",
      "text/plain": [
       "<Figure size 432x288 with 1 Axes>"
      ]
     },
     "metadata": {
      "needs_background": "light"
     },
     "output_type": "display_data"
    },
    {
     "name": "stdout",
     "output_type": "stream",
     "text": [
      "4.672644688767201\n"
     ]
    }
   ],
   "source": [
    "# Truncated PARSEC #\n",
    "params = np.array([0.3997, 0.2453, 0.3009, 2.3359, 0.618, 0.7968])\n",
    "\n",
    "T_PARSEC_airfoil = PARSECAirfoil(params)\n",
    "plot_airfoil(T_PARSEC_airfoil, sc=True, grid=True)\n",
    "\n",
    "T_PARSEC_drags = [0.0563, 0.06555, 0.07176, 0.07381, 0.07902, 0.08963, 0.108, 0.16884, 0.16884, 0.17409, 0.1817]\n",
    "T_PARSEC_obj = np.dot(weights, T_PARSEC_drags)\n",
    "\n",
    "print(T_PARSEC_obj)"
   ]
  },
  {
   "cell_type": "code",
   "execution_count": 75,
   "metadata": {},
   "outputs": [
    {
     "data": {
      "image/png": "[encoded data removed]",
      "text/plain": [
       "<Figure size 432x288 with 1 Axes>"
      ]
     },
     "metadata": {
      "needs_background": "light"
     },
     "output_type": "display_data"
    },
    {
     "name": "stdout",
     "output_type": "stream",
     "text": [
      "3.473527948748136\n"
     ]
    }
   ],
   "source": [
    "# Mixed #\n",
    "params = np.array([0.4388, 0.4285, 0.2319, 0.2924, 2.2184, 0.6653, 0.4959, 0.3065])\n",
    "\n",
    "Mix_airfoil = MixAirfoil(params)\n",
    "plot_airfoil(Mix_airfoil, sc=True, grid=True)\n",
    "\n",
    "Mix_drags = [0.0588735, 0.0588735, 0.05607, 0.08192, 0.07034, 0.07065, 0.07377, 0.07822, 0.08443, 0.0926, 0.09999]\n",
    "Mix_obj = np.dot(weights, Mix_drags)\n",
    "\n",
    "print(Mix_obj)"
   ]
  },
  {
   "cell_type": "code",
   "execution_count": 76,
   "metadata": {},
   "outputs": [
    {
     "data": {
      "image/png": "[encoded data removed]",
      "text/plain": [
       "<Figure size 432x288 with 1 Axes>"
      ]
     },
     "metadata": {
      "needs_background": "light"
     },
     "output_type": "display_data"
    },
    {
     "name": "stdout",
     "output_type": "stream",
     "text": [
      "2.9630834688780094\n"
     ]
    }
   ],
   "source": [
    "# Interpolated #\n",
    "x = [0.0372, 0.0374, 0.0204, 0.0301, 0.0367, 0.0206, 0.0114, 0.0038, 0.003, 0.0001, -0.001, -0.0021, -0.0031, -0.003, -0.003]\n",
    "\n",
    "ticks = np.linspace(0,np.pi/2,10)\n",
    "ticks = np.array([(0.5*(1.0-np.cos(e))) for e in ticks])\n",
    "ticks = np.hstack([ticks, np.linspace(0.5,1,7)[1:]])\n",
    "params = np.zeros((2,len(ticks)))\n",
    "params[0] = ticks\n",
    "params[1,:-1] = x\n",
    "\n",
    "Inter_airfoil = InterAirfoil(params)\n",
    "plot_airfoil(Inter_airfoil, sc=True, grid=True)\n",
    "\n",
    "Inter_drags = [0.05307, 0.05478, 0.06334, 0.0615, 0.06088, 0.06085, 0.06132, 0.06208, 0.06323, 0.06509, 0.0683]\n",
    "Inter_obj = np.dot(weights, Inter_drags)\n",
    "\n",
    "print(Inter_obj)"
   ]
  },
  {
   "cell_type": "code",
   "execution_count": 77,
   "metadata": {},
   "outputs": [
    {
     "data": {
      "image/png": "[encoded data removed]",
      "text/plain": [
       "<Figure size 432x288 with 1 Axes>"
      ]
     },
     "metadata": {
      "needs_background": "light"
     },
     "output_type": "display_data"
    },
    {
     "name": "stdout",
     "output_type": "stream",
     "text": [
      "3.4526324763027545\n"
     ]
    }
   ],
   "source": [
    "# Interpolated From NACA #\n",
    "x = [0.0312, 0.0304, 0.0284, 0.0243, 0.0198, 0.0145, 0.0099, 0.0061, 0.002, 0.0001, -0.001, -0.001, -0.002, -0.002, -0.002]\n",
    "\n",
    "ticks = np.linspace(0,np.pi/2,10)\n",
    "ticks = np.array([(0.5*(1.0-np.cos(e))) for e in ticks])\n",
    "ticks = np.hstack([ticks, np.linspace(0.5,1,7)[1:]])\n",
    "params = np.zeros((2,len(ticks)))\n",
    "params[0] = ticks\n",
    "params[1,:-1] = x\n",
    "\n",
    "Inter2_airfoil = InterAirfoil(params)\n",
    "plot_airfoil(Inter2_airfoil, sc=True, grid=True)\n",
    "\n",
    "Inter2_drags = [0.060648, 0.060648, 0.05776, 0.076755, 0.0731, 0.07078, 0.07279, 0.07595, 0.08126, 0.08869, 0.09324]\n",
    "Inter2_obj = np.dot(weights, Inter2_drags)\n",
    "\n",
    "print(Inter2_obj)"
   ]
  },
  {
   "cell_type": "markdown",
   "metadata": {},
   "source": [
    "## Save a plot of each airfoil"
   ]
  },
  {
   "cell_type": "code",
   "execution_count": 78,
   "metadata": {},
   "outputs": [
    {
     "name": "stdout",
     "output_type": "stream",
     "text": [
      "NACA \n",
      "Obj: 8.671495388386187\n",
      "PARSEC \n",
      "Obj: 5.411919901807162\n",
      "Truncated NACA \n",
      "Obj: 3.4682574720337005\n",
      "Truncated PARSEC \n",
      "Obj: 4.672644688767201\n",
      "Convex Combination \n",
      "Obj: 3.473527948748136\n",
      "Interpolated from Mixed \n",
      "Obj: 2.9630834688780094\n",
      "Interpolated from NACA \n",
      "Obj: 3.4526324763027545\n"
     ]
    }
   ],
   "source": [
    "airfoils = [NACA_airfoil, PARSEC_airfoil, T_NACA_airfoil, T_PARSEC_airfoil, Mix_airfoil, Inter_airfoil, Inter2_airfoil]\n",
    "names = [\"NACA\", \"PARSEC\", \"Truncated NACA\", \"Truncated PARSEC\", \"Convex Combination\", \"Interpolated from Mixed\", \"Interpolated from NACA\"]\n",
    "objs = [NACA_obj, PARSEC_obj, T_NACA_obj, T_PARSEC_obj, Mix_obj, Inter_obj, Inter2_obj]\n",
    "drags = [NACA_drags, PARSEC_drags, T_NACA_drags, T_PARSEC_drags, Mix_drags, Inter_drags, Inter2_drags]\n",
    "\n",
    "plt.rc('font', size=6)          # controls default text sizes\n",
    "plt.rc('axes', titlesize=10)     # fontsize of the axes title\n",
    "plt.rc('axes', labelsize=6)    # fontsize of the x and y labels\n",
    "plt.rc('xtick', labelsize=7)    # fontsize of the tick labels\n",
    "plt.rc('ytick', labelsize=7)    # fontsize of the tick labels\n",
    "plt.rc('figure', titlesize=12)  # fontsize of the figure title\n",
    "\n",
    "for i in range(len(airfoils)):\n",
    "    print(names[i], \"\\nObj:\", objs[i])\n",
    "    # a_drag = np.hstack([drags[i][::-1],drags[i][1:]])\n",
    "    # yaws = len(drags[i])\n",
    "    # yaws = list(range(-yaws+1,yaws))\n",
    "    # plt.ylim(0, a_drag.max()+.02)\n",
    "    # plt.plot(yaws,a_drag)\n",
    "    # plt.show()\n",
    "    t = names[i] + \"        Obj: \" + str(np.around(objs[i],decimals=3))\n",
    "    plot_airfoil(airfoils[i], sc=True, grid=True, f=names[i], t=t)"
   ]
  },
  {
   "cell_type": "markdown",
   "metadata": {},
   "source": [
    "## Drag vs Yaw plot"
   ]
  },
  {
   "cell_type": "code",
   "execution_count": 79,
   "metadata": {},
   "outputs": [
    {
     "data": {
      "image/png": "[encoded data removed]",
      "text/plain": [
       "<Figure size 432x288 with 1 Axes>"
      ]
     },
     "metadata": {
      "needs_background": "light"
     },
     "output_type": "display_data"
    }
   ],
   "source": [
    "colors = [\"b\", \"g\", \"r\", \"c\", \"m\", \"y\", \"k\"]\n",
    "\n",
    "plt.rc('font', size=6)          # controls default text sizes\n",
    "plt.rc('axes', titlesize=6)     # fontsize of the axes title\n",
    "plt.rc('axes', labelsize=6)    # fontsize of the x and y labels\n",
    "plt.rc('xtick', labelsize=4)    # fontsize of the tick labels\n",
    "plt.rc('ytick', labelsize=4)    # fontsize of the tick labels\n",
    "plt.rc('figure', titlesize=10)  # fontsize of the figure title\n",
    "\n",
    "plt.ylim(0,np.max(drags))\n",
    "plt.title(\"Drag Coefficients vs Yaw\")\n",
    "plt.xlabel(\"Yaw Angle\")\n",
    "plt.ylabel(\"Drag Coefficient\")\n",
    "for i in range(len(airfoils)):\n",
    "    a_drag = np.hstack([drags[i][::-1],drags[i][1:]])\n",
    "    yaws = len(drags[i])\n",
    "    yaws = list(range(-yaws+1,yaws))\n",
    "    plt.plot(yaws,a_drag, label=names[i], c=colors[i])\n",
    "\n",
    "plt.gca().set_aspect(35, adjustable='box')\n",
    "plt.ylim(-.05, np.max(drags)+.01)\n",
    "plt.legend(loc=4, prop={'size': 4})\n",
    "plt.tight_layout()\n",
    "plt.savefig('dragyaw', dpi=1200)\n",
    "plt.show()"
   ]
  },
  {
   "cell_type": "code",
   "execution_count": null,
   "metadata": {},
   "outputs": [],
   "source": []
  }
 ],
 "metadata": {
  "kernelspec": {
   "display_name": "py3",
   "language": "python",
   "name": "py3"
  },
  "language_info": {
   "codemirror_mode": {
    "name": "ipython",
    "version": 3
   },
   "file_extension": ".py",
   "mimetype": "text/x-python",
   "name": "python",
   "nbconvert_exporter": "python",
   "pygments_lexer": "ipython3",
   "version": "3.8.3"
  }
 },
 "nbformat": 4,
 "nbformat_minor": 2
}
